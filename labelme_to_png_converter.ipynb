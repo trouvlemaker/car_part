{
 "cells": [
  {
   "cell_type": "code",
   "execution_count": 1,
   "metadata": {},
   "outputs": [],
   "source": [
    "import os\n",
    "import cv2\n",
    "from glob import glob\n",
    "from tqdm import tqdm\n",
    "import shutil\n",
    "import numpy as np\n",
    "from sklearn.model_selection import train_test_split\n",
    "import json\n",
    "import pandas as pd"
   ]
  },
  {
   "cell_type": "code",
   "execution_count": null,
   "metadata": {},
   "outputs": [],
   "source": [
    "new_root = \"220819\""
   ]
  },
  {
   "cell_type": "code",
   "execution_count": null,
   "metadata": {},
   "outputs": [],
   "source": [
    "image_folders = glob(\"./캐플릭스데이터_부품탐색_220819_검수완료/images/*\")"
   ]
  },
  {
   "cell_type": "code",
   "execution_count": null,
   "metadata": {},
   "outputs": [],
   "source": [
    "PARTS_DF = pd.DataFrame({\"part_class\" : [1,2,3,4,5,6,7,8,9,10,11,12,27,13,14,15,16,17,18,19,20,21,22,23,24,25,26,28,29],\n",
    "                         \"color\" : [[50, 50, 150], [250, 50, 250], [250, 250, 50], [150, 150, 250], \n",
    "                                  [250, 50, 150], [250, 150, 250], [150, 50, 150], [150, 150, 150], \n",
    "                                  [50, 50, 250], [250, 150, 150], [250, 250, 150], [250, 250, 250], [50, 250, 150],\n",
    "                                  [250, 50, 50], [150, 150, 50], [50, 250, 250], [150, 50, 50], \n",
    "                                  [150, 250, 150], [50, 50, 50], [50, 150, 50], [50, 150, 150], \n",
    "                                  [50, 250, 50], [250, 150, 50], [150, 50, 250], [150, 250, 50], \n",
    "                                  [50, 150, 250], [150, 250, 250], [200,200,50],[255,255,255]]},\n",
    "                        \n",
    "                        index = ['back_door','front_bumper','front_door_left',                               \n",
    "                                 'front_door_right','front_fender_left','front_fender_right',\n",
    "                                 'front_fog_left','front_fog_right','front_lamp_left',\n",
    "                                 'front_lamp_right','grille_up','hood',\"trunk\",'rear_bumper',\n",
    "                                 'rear_door_left','rear_door_right','rear_fender_left',\n",
    "                                 'rear_fender_right','rear_lamp_left','rear_lamp_right',\n",
    "                                 'rear_stop_center','rear_stop_left','rear_stop_right',\n",
    "                                 'side_mirror_left','side_mirror_right','side_step_left',\n",
    "                                 'side_step_right','number_plate','minus'])"
   ]
  },
  {
   "cell_type": "code",
   "execution_count": null,
   "metadata": {},
   "outputs": [],
   "source": [
    "part_dict = dict(dict(PARTS_DF)[\"part_class\"])\n",
    "        \n",
    "drawing_order_dict = {}\n",
    "for idx, x in enumerate(part_dict):\n",
    "    part_data = part_dict[x]\n",
    "    data = [idx, x, part_data]\n",
    "    drawing_order_dict[x] = {\"order\":idx,\n",
    "                             \"part_id\":part_data}\n",
    "    \n",
    "part_color = dict(dict(PARTS_DF)[\"color\"])"
   ]
  },
  {
   "cell_type": "code",
   "execution_count": null,
   "metadata": {},
   "outputs": [],
   "source": [
    "def sort_to_draw_order(annotation_info):\n",
    "        \n",
    "    draw_order = []\n",
    "    for ai in annotation_info:\n",
    "        \n",
    "        category_name = ai[\"label\"].lower()\n",
    "        # print(category_name)\n",
    "        \n",
    "        if category_name == \"backdoor\":\n",
    "            category_name = \"back_door\"\n",
    "\n",
    "        draw_data = drawing_order_dict[category_name]\n",
    "\n",
    "        draw_order_num = draw_data[\"order\"]\n",
    "        part_color_id = draw_data[\"part_id\"]\n",
    "\n",
    "        # print(draw_order_num, category_name, part_color_id)\n",
    "        draw_order.append([draw_order_num, category_name, part_color_id, ai])\n",
    "\n",
    "    draw_order = sorted(draw_order, key=lambda x: x[0])\n",
    "\n",
    "    return draw_order"
   ]
  },
  {
   "cell_type": "code",
   "execution_count": null,
   "metadata": {},
   "outputs": [],
   "source": [
    "def convert_to_png(img_path, annot_info):\n",
    "    \n",
    "    image_data = cv2.imread(img_path)\n",
    "    image_data = cv2.cvtColor(image_data, cv2.COLOR_BGR2RGB)\n",
    "    \n",
    "    h,w,_ = image_data.shape\n",
    "    \n",
    "    white_paper = np.full((h,w,3),255).astype(np.uint8)\n",
    "    \n",
    "    draw_info = sort_to_draw_order(annot_info)\n",
    "\n",
    "    for di in draw_info:\n",
    "        \n",
    "        _, category_name, part_id, segmentation_data = di\n",
    "\n",
    "        color = part_color[category_name]\n",
    "\n",
    "        # polygon = np.array(segmentation_data[\"segmentation\"]).reshape((1,-1,2)).astype(np.int32)\n",
    "        \n",
    "        polygon = np.array(segmentation_data[\"points\"]).astype(np.int32)\n",
    "\n",
    "        cv2.fillPoly(white_paper, pts=[polygon], color=color)\n",
    "    \n",
    "    return white_paper"
   ]
  },
  {
   "cell_type": "code",
   "execution_count": null,
   "metadata": {},
   "outputs": [],
   "source": [
    "def read_json(config_path):\n",
    "    \"\"\"\n",
    "    json 파일을 읽어 dict 형태로 반환해주는 함수\n",
    "    \"\"\"\n",
    "    with open(config_path, encoding=\"utf-8-sig\") as json_file:\n",
    "        json_data = json.load(json_file)\n",
    "    return json_data"
   ]
  },
  {
   "cell_type": "code",
   "execution_count": null,
   "metadata": {},
   "outputs": [],
   "source": [
    "def label_drawer(img_path, annot_path):\n",
    "    \n",
    "    json_data = read_json(annot_path)\n",
    "    \n",
    "    labeling_data = json_data[\"shapes\"]\n",
    "    \n",
    "    label_image = convert_to_png(img_path, labeling_data)\n",
    "    \n",
    "    return label_image"
   ]
  },
  {
   "cell_type": "code",
   "execution_count": null,
   "metadata": {},
   "outputs": [],
   "source": [
    "for imf in image_folders:\n",
    "    \n",
    "    images = glob(os.path.join(imf, (\"*.jpg\")))\n",
    "    \n",
    "    refined_data = []\n",
    "    \n",
    "    for i in tqdm(images):\n",
    "    \n",
    "        a = i.replace(\"images\",\"annotations\").replace(\"jpg\",\"json\")\n",
    "    \n",
    "        if os.path.exists(a):\n",
    "            \n",
    "            refined_data.append((i,a))\n",
    "    if len(refined_data) > 5:\n",
    "    \n",
    "        train, test = train_test_split(refined_data, test_size=5, random_state=12345 )\n",
    "        \n",
    "    else:\n",
    "        train, test = train_test_split(refined_data, test_size=2, random_state=12345)\n",
    "    \n",
    "    for h in [\"train\",\"eval\"]:\n",
    "        for b in [\"images\",\"annotations\"]:\n",
    "            new_path = os.path.join(new_root,h,b)\n",
    "            os.makedirs(new_path,exist_ok=True)\n",
    "            \n",
    "    for tr in train:\n",
    "        \n",
    "        imgs, annots = tr\n",
    "        \n",
    "        label_image = label_drawer(imgs,annots)\n",
    "        \n",
    "        im_basename = os.path.basename(imgs)\n",
    "        annots_basename = os.path.basename(annots).replace(\"json\",\"png\")\n",
    "        \n",
    "        new_im_path = os.path.join(new_root, \"train\", \"images\", im_basename)\n",
    "        new_annot_path = os.path.join(new_root,\"train\",\"annotations\",annots_basename)\n",
    "        \n",
    "        shutil.copy2(imgs, new_im_path)\n",
    "        # shutil.copy2(annots, new_annot_path)\n",
    "        cv2.imwrite(new_annot_path, cv2.cvtColor(label_image, cv2.COLOR_RGB2BGR) )\n",
    "        \n",
    "    for ev in test:\n",
    "        \n",
    "        imgs, annots = ev\n",
    "        \n",
    "        label_image = label_drawer(imgs,annots)\n",
    "        \n",
    "        im_basename = os.path.basename(imgs)\n",
    "        annots_basename = os.path.basename(annots).replace(\"json\",\"png\")\n",
    "        \n",
    "        new_im_path = os.path.join(new_root, \"eval\", \"images\", im_basename)\n",
    "        new_annot_path = os.path.join(new_root,\"eval\",\"annotations\",annots_basename)\n",
    "        \n",
    "        shutil.copy2(imgs, new_im_path) \n",
    "        # shutil.copy2(annots, new_annot_path)\n",
    "        cv2.imwrite(new_annot_path, cv2.cvtColor(label_image, cv2.COLOR_RGB2BGR) )\n",
    "        "
   ]
  },
  {
   "cell_type": "code",
   "execution_count": null,
   "metadata": {},
   "outputs": [],
   "source": [
    "annots"
   ]
  },
  {
   "cell_type": "code",
   "execution_count": 3,
   "metadata": {},
   "outputs": [
    {
     "data": {
      "text/plain": [
       "267"
      ]
     },
     "execution_count": 3,
     "metadata": {},
     "output_type": "execute_result"
    }
   ],
   "source": [
    "len(glob('../twincar-part-kaflix/eval/images/*'))"
   ]
  },
  {
   "cell_type": "code",
   "execution_count": 4,
   "metadata": {},
   "outputs": [
    {
     "data": {
      "text/plain": [
       "3740"
      ]
     },
     "execution_count": 4,
     "metadata": {},
     "output_type": "execute_result"
    }
   ],
   "source": [
    "len(glob('../twincar-part-kaflix/train/images/*'))"
   ]
  },
  {
   "cell_type": "code",
   "execution_count": null,
   "metadata": {},
   "outputs": [],
   "source": []
  }
 ],
 "metadata": {
  "kernelspec": {
   "display_name": "Python 3.7.12 ('twincar')",
   "language": "python",
   "name": "python3"
  },
  "language_info": {
   "codemirror_mode": {
    "name": "ipython",
    "version": 3
   },
   "file_extension": ".py",
   "mimetype": "text/x-python",
   "name": "python",
   "nbconvert_exporter": "python",
   "pygments_lexer": "ipython3",
   "version": "3.7.12"
  },
  "orig_nbformat": 4,
  "vscode": {
   "interpreter": {
    "hash": "5ca3574acee61a134d62834255dc74f8020625960417d5e9bc603bf89b5bc50c"
   }
  }
 },
 "nbformat": 4,
 "nbformat_minor": 2
}
